{
 "cells": [
  {
   "cell_type": "code",
   "execution_count": 30,
   "metadata": {
    "collapsed": false
   },
   "outputs": [],
   "source": [
    "import pandas as pd\n",
    "import numpy as np\n",
    "import matplotlib as plt\n",
    "import statsmodels.api as sm\n",
    "import scipy.stats as stats\n",
    "from pylab import *\n",
    "from scipy.io import loadmat"
   ]
  },
  {
   "cell_type": "code",
   "execution_count": 41,
   "metadata": {
    "collapsed": false
   },
   "outputs": [],
   "source": [
    "df=pd.read_csv(\"atlantic.csv\",parse_dates=['Date Time'] , header=int(0))"
   ]
  },
  {
   "cell_type": "code",
   "execution_count": 65,
   "metadata": {
    "collapsed": false
   },
   "outputs": [
    {
     "data": {
      "text/html": [
       "<div>\n",
       "<table border=\"1\" class=\"dataframe\">\n",
       "  <thead>\n",
       "    <tr style=\"text-align: right;\">\n",
       "      <th></th>\n",
       "      <th>Date Time</th>\n",
       "      <th>Water Level</th>\n",
       "      <th>Sigma</th>\n",
       "      <th>I</th>\n",
       "      <th>L</th>\n",
       "    </tr>\n",
       "  </thead>\n",
       "  <tbody>\n",
       "    <tr>\n",
       "      <th>0</th>\n",
       "      <td>2016-01-01 00:00:00</td>\n",
       "      <td>0.888</td>\n",
       "      <td>0.210</td>\n",
       "      <td>0</td>\n",
       "      <td>0</td>\n",
       "    </tr>\n",
       "    <tr>\n",
       "      <th>1</th>\n",
       "      <td>2016-01-01 01:00:00</td>\n",
       "      <td>1.440</td>\n",
       "      <td>0.249</td>\n",
       "      <td>0</td>\n",
       "      <td>0</td>\n",
       "    </tr>\n",
       "    <tr>\n",
       "      <th>2</th>\n",
       "      <td>2016-01-01 02:00:00</td>\n",
       "      <td>2.066</td>\n",
       "      <td>0.285</td>\n",
       "      <td>0</td>\n",
       "      <td>0</td>\n",
       "    </tr>\n",
       "    <tr>\n",
       "      <th>3</th>\n",
       "      <td>2016-01-01 03:00:00</td>\n",
       "      <td>2.578</td>\n",
       "      <td>0.305</td>\n",
       "      <td>0</td>\n",
       "      <td>0</td>\n",
       "    </tr>\n",
       "    <tr>\n",
       "      <th>4</th>\n",
       "      <td>2016-01-01 04:00:00</td>\n",
       "      <td>3.270</td>\n",
       "      <td>0.262</td>\n",
       "      <td>0</td>\n",
       "      <td>0</td>\n",
       "    </tr>\n",
       "  </tbody>\n",
       "</table>\n",
       "</div>"
      ],
      "text/plain": [
       "            Date Time   Water Level   Sigma   I   L \n",
       "0 2016-01-01 00:00:00         0.888   0.210   0    0\n",
       "1 2016-01-01 01:00:00         1.440   0.249   0    0\n",
       "2 2016-01-01 02:00:00         2.066   0.285   0    0\n",
       "3 2016-01-01 03:00:00         2.578   0.305   0    0\n",
       "4 2016-01-01 04:00:00         3.270   0.262   0    0"
      ]
     },
     "execution_count": 65,
     "metadata": {},
     "output_type": "execute_result"
    }
   ],
   "source": [
    "df.head()"
   ]
  },
  {
   "cell_type": "code",
   "execution_count": 66,
   "metadata": {
    "collapsed": false
   },
   "outputs": [
    {
     "data": {
      "text/plain": [
       "Date Time       0\n",
       " Water Level    0\n",
       " Sigma          0\n",
       " I              0\n",
       " L              0\n",
       "dtype: int64"
      ]
     },
     "execution_count": 66,
     "metadata": {},
     "output_type": "execute_result"
    }
   ],
   "source": [
    "df.apply(lambda x: sum(x.isnull()),axis=0)"
   ]
  },
  {
   "cell_type": "code",
   "execution_count": 67,
   "metadata": {
    "collapsed": false
   },
   "outputs": [],
   "source": [
    "df_clean = df.dropna()"
   ]
  },
  {
   "cell_type": "code",
   "execution_count": 68,
   "metadata": {
    "collapsed": false
   },
   "outputs": [
    {
     "data": {
      "text/html": [
       "<div>\n",
       "<table border=\"1\" class=\"dataframe\">\n",
       "  <thead>\n",
       "    <tr style=\"text-align: right;\">\n",
       "      <th></th>\n",
       "      <th>Date Time</th>\n",
       "      <th>Water Level</th>\n",
       "      <th>Sigma</th>\n",
       "      <th>I</th>\n",
       "      <th>L</th>\n",
       "    </tr>\n",
       "  </thead>\n",
       "  <tbody>\n",
       "    <tr>\n",
       "      <th>0</th>\n",
       "      <td>2016-01-01 00:00:00</td>\n",
       "      <td>0.888</td>\n",
       "      <td>0.210</td>\n",
       "      <td>0</td>\n",
       "      <td>0</td>\n",
       "    </tr>\n",
       "    <tr>\n",
       "      <th>1</th>\n",
       "      <td>2016-01-01 01:00:00</td>\n",
       "      <td>1.440</td>\n",
       "      <td>0.249</td>\n",
       "      <td>0</td>\n",
       "      <td>0</td>\n",
       "    </tr>\n",
       "    <tr>\n",
       "      <th>2</th>\n",
       "      <td>2016-01-01 02:00:00</td>\n",
       "      <td>2.066</td>\n",
       "      <td>0.285</td>\n",
       "      <td>0</td>\n",
       "      <td>0</td>\n",
       "    </tr>\n",
       "    <tr>\n",
       "      <th>3</th>\n",
       "      <td>2016-01-01 03:00:00</td>\n",
       "      <td>2.578</td>\n",
       "      <td>0.305</td>\n",
       "      <td>0</td>\n",
       "      <td>0</td>\n",
       "    </tr>\n",
       "    <tr>\n",
       "      <th>4</th>\n",
       "      <td>2016-01-01 04:00:00</td>\n",
       "      <td>3.270</td>\n",
       "      <td>0.262</td>\n",
       "      <td>0</td>\n",
       "      <td>0</td>\n",
       "    </tr>\n",
       "    <tr>\n",
       "      <th>5</th>\n",
       "      <td>2016-01-01 05:00:00</td>\n",
       "      <td>3.733</td>\n",
       "      <td>0.292</td>\n",
       "      <td>0</td>\n",
       "      <td>0</td>\n",
       "    </tr>\n",
       "    <tr>\n",
       "      <th>6</th>\n",
       "      <td>2016-01-01 06:00:00</td>\n",
       "      <td>3.536</td>\n",
       "      <td>0.302</td>\n",
       "      <td>0</td>\n",
       "      <td>0</td>\n",
       "    </tr>\n",
       "    <tr>\n",
       "      <th>7</th>\n",
       "      <td>2016-01-01 07:00:00</td>\n",
       "      <td>3.047</td>\n",
       "      <td>0.249</td>\n",
       "      <td>0</td>\n",
       "      <td>0</td>\n",
       "    </tr>\n",
       "    <tr>\n",
       "      <th>8</th>\n",
       "      <td>2016-01-01 08:00:00</td>\n",
       "      <td>2.312</td>\n",
       "      <td>0.236</td>\n",
       "      <td>0</td>\n",
       "      <td>0</td>\n",
       "    </tr>\n",
       "    <tr>\n",
       "      <th>9</th>\n",
       "      <td>2016-01-01 09:00:00</td>\n",
       "      <td>1.705</td>\n",
       "      <td>0.230</td>\n",
       "      <td>0</td>\n",
       "      <td>0</td>\n",
       "    </tr>\n",
       "    <tr>\n",
       "      <th>10</th>\n",
       "      <td>2016-01-01 10:00:00</td>\n",
       "      <td>0.980</td>\n",
       "      <td>0.220</td>\n",
       "      <td>0</td>\n",
       "      <td>0</td>\n",
       "    </tr>\n",
       "  </tbody>\n",
       "</table>\n",
       "</div>"
      ],
      "text/plain": [
       "             Date Time   Water Level   Sigma   I   L \n",
       "0  2016-01-01 00:00:00         0.888   0.210   0    0\n",
       "1  2016-01-01 01:00:00         1.440   0.249   0    0\n",
       "2  2016-01-01 02:00:00         2.066   0.285   0    0\n",
       "3  2016-01-01 03:00:00         2.578   0.305   0    0\n",
       "4  2016-01-01 04:00:00         3.270   0.262   0    0\n",
       "5  2016-01-01 05:00:00         3.733   0.292   0    0\n",
       "6  2016-01-01 06:00:00         3.536   0.302   0    0\n",
       "7  2016-01-01 07:00:00         3.047   0.249   0    0\n",
       "8  2016-01-01 08:00:00         2.312   0.236   0    0\n",
       "9  2016-01-01 09:00:00         1.705   0.230   0    0\n",
       "10 2016-01-01 10:00:00         0.980   0.220   0    0"
      ]
     },
     "execution_count": 68,
     "metadata": {},
     "output_type": "execute_result"
    }
   ],
   "source": [
    "\n",
    "df_clean.head(11)"
   ]
  },
  {
   "cell_type": "code",
   "execution_count": 110,
   "metadata": {
    "collapsed": false
   },
   "outputs": [
    {
     "data": {
      "image/png": "[encoded data removed]",
      "text/plain": [
       "<matplotlib.figure.Figure at 0x7f1c63214dd8>"
      ]
     },
     "metadata": {},
     "output_type": "display_data"
    }
   ],
   "source": [
    "from scipy.fftpack import fft, fftfreq, fftshift\n",
    "# number of signal points\n",
    "N = 744\n",
    "# sample spacing\n",
    "T = 1\n",
    "x = df['Date Time']\n",
    "y = df[' Water Level']\n",
    "yf = fft(y)\n",
    "xf = fftfreq(N, T)\n",
    "xf = fftshift(xf)\n",
    "yplot = fftshift(yf)\n",
    "import matplotlib.pyplot as plt\n",
    "plt.plot(xf, 1.0/N * np.abs(yplot))\n",
    "plt.xlim(-0.001, .1)\n",
    "plt.ylim(0,3)\n",
    "\n",
    "\n",
    "plt.grid()\n",
    "plt.title(u'Mareas en Atlantic city (Enero 2016) ')  # Colocamos el título del gráfico\n",
    "plt.xlabel('Frecuencia (1/hr)')  # Colocamos la etiqueta en el eje x\n",
    "plt.ylabel('Amplitud (m)')  # Colocamos la etiqueta en el eje y\n",
    "\n",
    "plt.text(.040,.3,\"S1\")\n",
    "plt.text(.083,.2,\"S2\")\n",
    "plt.text(.078,1.1,\"M2\")\n",
    "\n",
    "plt.show()"
   ]
  },
  {
   "cell_type": "code",
   "execution_count": 70,
   "metadata": {
    "collapsed": true
   },
   "outputs": [],
   "source": [
    "A=yf/N"
   ]
  },
  {
   "cell_type": "code",
   "execution_count": 71,
   "metadata": {
    "collapsed": true
   },
   "outputs": [],
   "source": [
    "B=np.absolute(A)"
   ]
  },
  {
   "cell_type": "code",
   "execution_count": 90,
   "metadata": {
    "collapsed": false
   },
   "outputs": [
    {
     "name": "stdout",
     "output_type": "stream",
     "text": [
      "(array([  0,   1,   2,   3,   4,   5,   8,  10,  11,  12,  14,  16,  17,\n",
      "        28,  29,  31,  59,  60,  61,  62, 682, 683, 684, 685, 713, 715,\n",
      "       716, 727, 728, 730, 732, 733, 734, 736, 739, 740, 741, 742, 743]),)\n"
     ]
    },
    {
     "data": {
      "text/plain": [
       "array([ 2.42608199,  0.09916212,  0.2390481 ,  0.11454139,  0.32965573,\n",
       "        0.33855658,  0.15278   ,  0.07206817,  0.11818248,  0.13910754,\n",
       "        0.069153  ,  0.05980407,  0.10938833,  0.05491098,  0.09130525,\n",
       "        0.19282184,  0.2614691 ,  0.94425598,  0.08466055,  0.1646898 ,\n",
       "        0.1646898 ,  0.08466055,  0.94425598,  0.2614691 ,  0.19282184,\n",
       "        0.09130525,  0.05491098,  0.10938833,  0.05980407,  0.069153  ,\n",
       "        0.13910754,  0.11818248,  0.07206817,  0.15278   ,  0.33855658,\n",
       "        0.32965573,  0.11454139,  0.2390481 ,  0.09916212])"
      ]
     },
     "execution_count": 90,
     "metadata": {},
     "output_type": "execute_result"
    }
   ],
   "source": [
    "\n",
    "print(np.where(B[:,]>0.05))\n",
    "B[B[:,]>.05]\n"
   ]
  },
  {
   "cell_type": "code",
   "execution_count": 93,
   "metadata": {
    "collapsed": false
   },
   "outputs": [
    {
     "name": "stdout",
     "output_type": "stream",
     "text": [
      "0\n",
      "Amplitud= 2.42608198925\n",
      "frecuencia= 0.0\n",
      "periodo= inf\n",
      "\n",
      "1\n",
      "Amplitud= 0.0991621208059\n",
      "frecuencia= 0.00134408602151\n",
      "periodo= 744.0\n",
      "\n",
      "2\n",
      "Amplitud= 0.239048102044\n",
      "frecuencia= 0.00268817204301\n",
      "periodo= 372.0\n",
      "\n",
      "3\n",
      "Amplitud= 0.114541385505\n",
      "frecuencia= 0.00403225806452\n",
      "periodo= 248.0\n",
      "\n",
      "4\n",
      "Amplitud= 0.329655730207\n",
      "frecuencia= 0.00537634408602\n",
      "periodo= 186.0\n",
      "\n",
      "5\n",
      "Amplitud= 0.338556578237\n",
      "frecuencia= 0.00672043010753\n",
      "periodo= 148.8\n",
      "\n",
      "8\n",
      "Amplitud= 0.152780001725\n",
      "frecuencia= 0.010752688172\n",
      "periodo= 93.0\n",
      "\n",
      "10\n",
      "Amplitud= 0.0720681741454\n",
      "frecuencia= 0.0134408602151\n",
      "periodo= 74.4\n",
      "\n",
      "11\n",
      "Amplitud= 0.118182478139\n",
      "frecuencia= 0.0147849462366\n",
      "periodo= 67.6363636364\n",
      "\n",
      "12\n",
      "Amplitud= 0.139107536697\n",
      "frecuencia= 0.0161290322581\n",
      "periodo= 62.0\n",
      "\n",
      "14\n",
      "Amplitud= 0.0691530031408\n",
      "frecuencia= 0.0188172043011\n",
      "periodo= 53.1428571429\n",
      "\n",
      "16\n",
      "Amplitud= 0.0598040746177\n",
      "frecuencia= 0.0215053763441\n",
      "periodo= 46.5\n",
      "\n",
      "17\n",
      "Amplitud= 0.109388325197\n",
      "frecuencia= 0.0228494623656\n",
      "periodo= 43.7647058824\n",
      "\n",
      "28\n",
      "Amplitud= 0.0549109789182\n",
      "frecuencia= 0.0376344086022\n",
      "periodo= 26.5714285714\n",
      "\n",
      "29\n",
      "Amplitud= 0.0913052532416\n",
      "frecuencia= 0.0389784946237\n",
      "periodo= 25.6551724138\n",
      "\n",
      "31----s1\n",
      "Amplitud= 0.192821839785\n",
      "frecuencia= 0.0416666666667\n",
      "periodo= 24.0\n",
      "\n",
      "59----v2\n",
      "Amplitud= 0.261469101013\n",
      "frecuencia= 0.0793010752688\n",
      "periodo= 12.6101694915\n",
      "\n",
      "60----M2\n",
      "Amplitud= 0.944255978754\n",
      "frecuencia= 0.0806451612903\n",
      "periodo= 12.4\n",
      "\n",
      "61----L2\n",
      "Amplitud= 0.084660550066\n",
      "frecuencia= 0.0819892473118\n",
      "periodo= 12.1967213115\n",
      "\n",
      "62----s2\n",
      "Amplitud= 0.164689802341\n",
      "frecuencia= 0.0833333333333\n",
      "periodo= 12.0\n",
      "\n"
     ]
    }
   ],
   "source": [
    "print( '0')\n",
    "print('Amplitud=',np.absolute(yf[0,]/N))\n",
    "print('frecuencia=', xf[int(N/2 +0),])\n",
    "print('periodo=', 1/xf[int(N/2 +0),])\n",
    "print()\n",
    "print( '1')\n",
    "print('Amplitud=',np.absolute(yf[1,]/N))\n",
    "print('frecuencia=', xf[int(N/2 +1),])\n",
    "print('periodo=', 1/xf[int(N/2 +1),])\n",
    "print()\n",
    "print( '2')\n",
    "print('Amplitud=',np.absolute(yf[2,]/N))\n",
    "print('frecuencia=', xf[int(N/2 +2),])\n",
    "print('periodo=', 1/xf[int(N/2 +2),])\n",
    "print()\n",
    "print( '3')\n",
    "print('Amplitud=',np.absolute(yf[3,]/N))\n",
    "print('frecuencia=', xf[int(N/2 +3),])\n",
    "print('periodo=', 1/xf[int(N/2 +3),])\n",
    "print()\n",
    "print( '4')\n",
    "print('Amplitud=',np.absolute(yf[4,]/N))\n",
    "print('frecuencia=', xf[int(N/2 +4),])\n",
    "print('periodo=', 1/xf[int(N/2 +4),])\n",
    "print()\n",
    "print( '5')\n",
    "print('Amplitud=',np.absolute(yf[5,]/N))\n",
    "print('frecuencia=', xf[int(N/2 +5),])\n",
    "print('periodo=', 1/xf[int(N/2 +5),])\n",
    "print()\n",
    "print( '8')\n",
    "print('Amplitud=',np.absolute(yf[8,]/N))\n",
    "print('frecuencia=', xf[int(N/2 +8),])\n",
    "print('periodo=', 1/xf[int(N/2 +8),])\n",
    "print()\n",
    "print( '10')\n",
    "print('Amplitud=',np.absolute(yf[10,]/N))\n",
    "print('frecuencia=', xf[int(N/2 +10),])\n",
    "print('periodo=', 1/xf[int(N/2 +10),])\n",
    "print()\n",
    "print( '11')\n",
    "print('Amplitud=',np.absolute(yf[11,]/N))\n",
    "print('frecuencia=', xf[int(N/2 +11),])\n",
    "print('periodo=', 1/xf[int(N/2 +11),])\n",
    "print()\n",
    "print( '12')\n",
    "print('Amplitud=',np.absolute(yf[12,]/N))\n",
    "print('frecuencia=', xf[int(N/2 +12),])\n",
    "print('periodo=', 1/xf[int(N/2 +12),])\n",
    "print()\n",
    "print( '14')\n",
    "print('Amplitud=',np.absolute(yf[14,]/N))\n",
    "print('frecuencia=', xf[int(N/2 +14),])\n",
    "print('periodo=', 1/xf[int(N/2 +14),])\n",
    "print()\n",
    "print( '16')\n",
    "print('Amplitud=',np.absolute(yf[16,]/N))\n",
    "print('frecuencia=', xf[int(N/2 +16),])\n",
    "print('periodo=', 1/xf[int(N/2 +16),])\n",
    "print()\n",
    "print( '17')\n",
    "print('Amplitud=',np.absolute(yf[17,]/N))\n",
    "print('frecuencia=', xf[int(N/2 +17),])\n",
    "print('periodo=', 1/xf[int(N/2 +17),])\n",
    "print()\n",
    "print( '28')\n",
    "print('Amplitud=',np.absolute(yf[28,]/N))\n",
    "print('frecuencia=', xf[int(N/2 +28),])\n",
    "print('periodo=', 1/xf[int(N/2 +28),])\n",
    "print()\n",
    "print( '29')\n",
    "print('Amplitud=',np.absolute(yf[29,]/N))\n",
    "print('frecuencia=', xf[int(N/2 +29),])\n",
    "print('periodo=', 1/xf[int(N/2 +29),])\n",
    "print()\n",
    "print( '31----s1')\n",
    "print('Amplitud=',np.absolute(yf[31,]/N))\n",
    "print('frecuencia=', xf[int(N/2 +31),])\n",
    "print('periodo=', 1/xf[int(N/2 +31),])\n",
    "print()\n",
    "print( '59----v2')\n",
    "print('Amplitud=',np.absolute(yf[59,]/N))\n",
    "print('frecuencia=', xf[int(N/2 +59),])\n",
    "print('periodo=', 1/xf[int(N/2 +59),])\n",
    "print()\n",
    "print( '60----M2')\n",
    "print('Amplitud=',np.absolute(yf[60,]/N))\n",
    "print('frecuencia=', xf[int(N/2 +60),])\n",
    "print('periodo=', 1/xf[int(N/2 +60),])\n",
    "print()\n",
    "print( '61----L2')\n",
    "print('Amplitud=',np.absolute(yf[61,]/N))\n",
    "print('frecuencia=', xf[int(N/2 +61),])\n",
    "print('periodo=', 1/xf[int(N/2 +61),])\n",
    "print()\n",
    "print( '62----s2')\n",
    "print('Amplitud=',np.absolute(yf[62,]/N))\n",
    "print('frecuencia=', xf[int(N/2 +62),])\n",
    "print('periodo=', 1/xf[int(N/2 +62),])\n",
    "print()"
   ]
  },
  {
   "cell_type": "code",
   "execution_count": null,
   "metadata": {
    "collapsed": true
   },
   "outputs": [],
   "source": []
  }
 ],
 "metadata": {
  "anaconda-cloud": {},
  "kernelspec": {
   "display_name": "Python [default]",
   "language": "python",
   "name": "python3"
  },
  "language_info": {
   "codemirror_mode": {
    "name": "ipython",
    "version": 3
   },
   "file_extension": ".py",
   "mimetype": "text/x-python",
   "name": "python",
   "nbconvert_exporter": "python",
   "pygments_lexer": "ipython3",
   "version": "3.5.2"
  }
 },
 "nbformat": 4,
 "nbformat_minor": 1
}
