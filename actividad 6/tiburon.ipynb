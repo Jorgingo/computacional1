{
 "cells": [
  {
   "cell_type": "code",
   "execution_count": 1,
   "metadata": {
    "collapsed": false
   },
   "outputs": [],
   "source": [
    "import pandas as pd\n",
    "import numpy as np\n",
    "import matplotlib as plt\n",
    "import statsmodels.api as sm\n",
    "import scipy.stats as stats\n",
    "from pylab import *\n",
    "from scipy.io import loadmat\n"
   ]
  },
  {
   "cell_type": "code",
   "execution_count": 2,
   "metadata": {
    "collapsed": false
   },
   "outputs": [],
   "source": [
    "df=pd.read_csv(\"datostiburon.csv\", header=int(0))"
   ]
  },
  {
   "cell_type": "code",
   "execution_count": 3,
   "metadata": {
    "collapsed": false
   },
   "outputs": [
    {
     "data": {
      "text/html": [
       "<div>\n",
       "<table border=\"1\" class=\"dataframe\">\n",
       "  <thead>\n",
       "    <tr style=\"text-align: right;\">\n",
       "      <th></th>\n",
       "      <th>anio</th>\n",
       "      <th>mes</th>\n",
       "      <th>dia</th>\n",
       "      <th>hora(utc)</th>\n",
       "      <th>altura(mm)</th>\n",
       "    </tr>\n",
       "  </thead>\n",
       "  <tbody>\n",
       "    <tr>\n",
       "      <th>0</th>\n",
       "      <td>2016</td>\n",
       "      <td>1</td>\n",
       "      <td>1</td>\n",
       "      <td>0</td>\n",
       "      <td>979</td>\n",
       "    </tr>\n",
       "    <tr>\n",
       "      <th>1</th>\n",
       "      <td>2016</td>\n",
       "      <td>1</td>\n",
       "      <td>1</td>\n",
       "      <td>1</td>\n",
       "      <td>982</td>\n",
       "    </tr>\n",
       "    <tr>\n",
       "      <th>2</th>\n",
       "      <td>2016</td>\n",
       "      <td>1</td>\n",
       "      <td>1</td>\n",
       "      <td>2</td>\n",
       "      <td>948</td>\n",
       "    </tr>\n",
       "    <tr>\n",
       "      <th>3</th>\n",
       "      <td>2016</td>\n",
       "      <td>1</td>\n",
       "      <td>1</td>\n",
       "      <td>3</td>\n",
       "      <td>889</td>\n",
       "    </tr>\n",
       "    <tr>\n",
       "      <th>4</th>\n",
       "      <td>2016</td>\n",
       "      <td>1</td>\n",
       "      <td>1</td>\n",
       "      <td>4</td>\n",
       "      <td>820</td>\n",
       "    </tr>\n",
       "  </tbody>\n",
       "</table>\n",
       "</div>"
      ],
      "text/plain": [
       "   anio  mes  dia  hora(utc)  altura(mm)\n",
       "0  2016    1    1          0         979\n",
       "1  2016    1    1          1         982\n",
       "2  2016    1    1          2         948\n",
       "3  2016    1    1          3         889\n",
       "4  2016    1    1          4         820"
      ]
     },
     "execution_count": 3,
     "metadata": {},
     "output_type": "execute_result"
    }
   ],
   "source": [
    "df.head()"
   ]
  },
  {
   "cell_type": "code",
   "execution_count": 4,
   "metadata": {
    "collapsed": false
   },
   "outputs": [
    {
     "data": {
      "text/plain": [
       "anio          0\n",
       "mes           0\n",
       "dia           0\n",
       "hora(utc)     0\n",
       "altura(mm)    0\n",
       "dtype: int64"
      ]
     },
     "execution_count": 4,
     "metadata": {},
     "output_type": "execute_result"
    }
   ],
   "source": [
    "df.apply(lambda x: sum(x.isnull()),axis=0)"
   ]
  },
  {
   "cell_type": "code",
   "execution_count": 5,
   "metadata": {
    "collapsed": true
   },
   "outputs": [],
   "source": [
    "df_clean = df.dropna()"
   ]
  },
  {
   "cell_type": "code",
   "execution_count": 6,
   "metadata": {
    "collapsed": false
   },
   "outputs": [
    {
     "data": {
      "text/html": [
       "<div>\n",
       "<table border=\"1\" class=\"dataframe\">\n",
       "  <thead>\n",
       "    <tr style=\"text-align: right;\">\n",
       "      <th></th>\n",
       "      <th>anio</th>\n",
       "      <th>mes</th>\n",
       "      <th>dia</th>\n",
       "      <th>hora(utc)</th>\n",
       "      <th>altura(mm)</th>\n",
       "    </tr>\n",
       "  </thead>\n",
       "  <tbody>\n",
       "    <tr>\n",
       "      <th>0</th>\n",
       "      <td>2016</td>\n",
       "      <td>1</td>\n",
       "      <td>1</td>\n",
       "      <td>0</td>\n",
       "      <td>979</td>\n",
       "    </tr>\n",
       "    <tr>\n",
       "      <th>1</th>\n",
       "      <td>2016</td>\n",
       "      <td>1</td>\n",
       "      <td>1</td>\n",
       "      <td>1</td>\n",
       "      <td>982</td>\n",
       "    </tr>\n",
       "    <tr>\n",
       "      <th>2</th>\n",
       "      <td>2016</td>\n",
       "      <td>1</td>\n",
       "      <td>1</td>\n",
       "      <td>2</td>\n",
       "      <td>948</td>\n",
       "    </tr>\n",
       "    <tr>\n",
       "      <th>3</th>\n",
       "      <td>2016</td>\n",
       "      <td>1</td>\n",
       "      <td>1</td>\n",
       "      <td>3</td>\n",
       "      <td>889</td>\n",
       "    </tr>\n",
       "    <tr>\n",
       "      <th>4</th>\n",
       "      <td>2016</td>\n",
       "      <td>1</td>\n",
       "      <td>1</td>\n",
       "      <td>4</td>\n",
       "      <td>820</td>\n",
       "    </tr>\n",
       "    <tr>\n",
       "      <th>5</th>\n",
       "      <td>2016</td>\n",
       "      <td>1</td>\n",
       "      <td>1</td>\n",
       "      <td>5</td>\n",
       "      <td>761</td>\n",
       "    </tr>\n",
       "    <tr>\n",
       "      <th>6</th>\n",
       "      <td>2016</td>\n",
       "      <td>1</td>\n",
       "      <td>1</td>\n",
       "      <td>6</td>\n",
       "      <td>736</td>\n",
       "    </tr>\n",
       "    <tr>\n",
       "      <th>7</th>\n",
       "      <td>2016</td>\n",
       "      <td>1</td>\n",
       "      <td>1</td>\n",
       "      <td>7</td>\n",
       "      <td>757</td>\n",
       "    </tr>\n",
       "    <tr>\n",
       "      <th>8</th>\n",
       "      <td>2016</td>\n",
       "      <td>1</td>\n",
       "      <td>1</td>\n",
       "      <td>8</td>\n",
       "      <td>828</td>\n",
       "    </tr>\n",
       "    <tr>\n",
       "      <th>9</th>\n",
       "      <td>2016</td>\n",
       "      <td>1</td>\n",
       "      <td>1</td>\n",
       "      <td>9</td>\n",
       "      <td>955</td>\n",
       "    </tr>\n",
       "    <tr>\n",
       "      <th>10</th>\n",
       "      <td>2016</td>\n",
       "      <td>1</td>\n",
       "      <td>1</td>\n",
       "      <td>10</td>\n",
       "      <td>1120</td>\n",
       "    </tr>\n",
       "  </tbody>\n",
       "</table>\n",
       "</div>"
      ],
      "text/plain": [
       "    anio  mes  dia  hora(utc)  altura(mm)\n",
       "0   2016    1    1          0         979\n",
       "1   2016    1    1          1         982\n",
       "2   2016    1    1          2         948\n",
       "3   2016    1    1          3         889\n",
       "4   2016    1    1          4         820\n",
       "5   2016    1    1          5         761\n",
       "6   2016    1    1          6         736\n",
       "7   2016    1    1          7         757\n",
       "8   2016    1    1          8         828\n",
       "9   2016    1    1          9         955\n",
       "10  2016    1    1         10        1120"
      ]
     },
     "execution_count": 6,
     "metadata": {},
     "output_type": "execute_result"
    }
   ],
   "source": [
    "\n",
    "\n",
    "df_clean.head(11)\n"
   ]
  },
  {
   "cell_type": "code",
   "execution_count": 7,
   "metadata": {
    "collapsed": false
   },
   "outputs": [],
   "source": [
    "\n",
    "from datetime import datetime\n",
    "df['date']= df.apply(lambda x:datetime.strptime(\"{0} {1} {2} {3}\".format(x[u'anio'],x[u'mes'], x[u'dia'], x[u'hora(utc)']), \"%Y %m %d %H\"),axis=1)"
   ]
  },
  {
   "cell_type": "code",
   "execution_count": 8,
   "metadata": {
    "collapsed": false
   },
   "outputs": [
    {
     "data": {
      "text/html": [
       "<div>\n",
       "<table border=\"1\" class=\"dataframe\">\n",
       "  <thead>\n",
       "    <tr style=\"text-align: right;\">\n",
       "      <th></th>\n",
       "      <th>anio</th>\n",
       "      <th>mes</th>\n",
       "      <th>dia</th>\n",
       "      <th>hora(utc)</th>\n",
       "      <th>altura(mm)</th>\n",
       "      <th>date</th>\n",
       "    </tr>\n",
       "  </thead>\n",
       "  <tbody>\n",
       "    <tr>\n",
       "      <th>739</th>\n",
       "      <td>2016</td>\n",
       "      <td>1</td>\n",
       "      <td>31</td>\n",
       "      <td>19</td>\n",
       "      <td>624</td>\n",
       "      <td>2016-01-31 19:00:00</td>\n",
       "    </tr>\n",
       "    <tr>\n",
       "      <th>740</th>\n",
       "      <td>2016</td>\n",
       "      <td>1</td>\n",
       "      <td>31</td>\n",
       "      <td>20</td>\n",
       "      <td>622</td>\n",
       "      <td>2016-01-31 20:00:00</td>\n",
       "    </tr>\n",
       "    <tr>\n",
       "      <th>741</th>\n",
       "      <td>2016</td>\n",
       "      <td>1</td>\n",
       "      <td>31</td>\n",
       "      <td>21</td>\n",
       "      <td>664</td>\n",
       "      <td>2016-01-31 21:00:00</td>\n",
       "    </tr>\n",
       "    <tr>\n",
       "      <th>742</th>\n",
       "      <td>2016</td>\n",
       "      <td>1</td>\n",
       "      <td>31</td>\n",
       "      <td>22</td>\n",
       "      <td>753</td>\n",
       "      <td>2016-01-31 22:00:00</td>\n",
       "    </tr>\n",
       "    <tr>\n",
       "      <th>743</th>\n",
       "      <td>2016</td>\n",
       "      <td>1</td>\n",
       "      <td>31</td>\n",
       "      <td>23</td>\n",
       "      <td>868</td>\n",
       "      <td>2016-01-31 23:00:00</td>\n",
       "    </tr>\n",
       "  </tbody>\n",
       "</table>\n",
       "</div>"
      ],
      "text/plain": [
       "     anio  mes  dia  hora(utc)  altura(mm)                date\n",
       "739  2016    1   31         19         624 2016-01-31 19:00:00\n",
       "740  2016    1   31         20         622 2016-01-31 20:00:00\n",
       "741  2016    1   31         21         664 2016-01-31 21:00:00\n",
       "742  2016    1   31         22         753 2016-01-31 22:00:00\n",
       "743  2016    1   31         23         868 2016-01-31 23:00:00"
      ]
     },
     "execution_count": 8,
     "metadata": {},
     "output_type": "execute_result"
    }
   ],
   "source": [
    "df.tail()"
   ]
  },
  {
   "cell_type": "code",
   "execution_count": 9,
   "metadata": {
    "collapsed": false
   },
   "outputs": [
    {
     "name": "stderr",
     "output_type": "stream",
     "text": [
      "/opt/anaconda/anaconda3/lib/python3.5/site-packages/ipykernel/__main__.py:11: VisibleDeprecationWarning: using a non-integer number instead of an integer will result in an error in the future\n"
     ]
    },
    {
     "data": {
      "image/png": "[encoded data removed]",
      "text/plain": [
       "<matplotlib.figure.Figure at 0x7ffa1b6d9630>"
      ]
     },
     "metadata": {},
     "output_type": "display_data"
    }
   ],
   "source": [
    ">>> from scipy.fftpack import fft\n",
    ">>> # Number of sample points\n",
    ">>> N = 744\n",
    ">>> # sample spacing\n",
    ">>> T = 1\n",
    ">>> x = df['date']\n",
    ">>> y = df['altura(mm)']\n",
    ">>> yf = fft(y)\n",
    ">>> xf = np.linspace(0.0, 1.0/(2.0*T), N/2)\n",
    ">>> import matplotlib.pyplot as plt\n",
    ">>> plt.plot(xf, 1/N * np.abs(yf[0:N/2]))\n",
    "plt.xlim(0,.1)\n",
    "plt.ylim(0,1000)\n",
    ">>> plt.grid()\n",
    "plt.title(u'Mareas en Isla del tiburón (Enero 2016 ) ')  # Colocamos el título del gráfico\n",
    "plt.xlabel('Frecuencia (1/hr)')  # Colocamos la etiqueta en el eje x\n",
    "plt.ylabel('Amplitud (mm)')  # Colocamos la etiqueta en el eje y\n",
    "\n",
    "plt.text(.0405,400,\"P1\")\n",
    "plt.text(.0365,200,\"O1\")\n",
    "plt.text(.079,500,\"M2\")\n",
    "plt.text(.082,250,\"S2\")\n",
    "plt.text(.074,100,\"N2\")\n",
    ">>> plt.show()\n"
   ]
  },
  {
   "cell_type": "code",
   "execution_count": 10,
   "metadata": {
    "collapsed": false
   },
   "outputs": [
    {
     "name": "stderr",
     "output_type": "stream",
     "text": [
      "/opt/anaconda/anaconda3/lib/python3.5/site-packages/ipykernel/__main__.py:11: VisibleDeprecationWarning: using a non-integer number instead of an integer will result in an error in the future\n"
     ]
    },
    {
     "data": {
      "image/png": "[encoded data removed]",
      "text/plain": [
       "<matplotlib.figure.Figure at 0x7ffa194d56a0>"
      ]
     },
     "metadata": {},
     "output_type": "display_data"
    }
   ],
   "source": [
    ">>> from scipy.fftpack import fft\n",
    ">>> # Number of sample points\n",
    ">>> N = 744\n",
    ">>> # sample spacing\n",
    ">>> T = 1\n",
    ">>> x = df['date']\n",
    ">>> y = df['altura(mm)']\n",
    ">>> yf = fft(y)\n",
    ">>> xf = np.linspace(0.0, 1.0/(2.0*T), N/2)\n",
    ">>> import matplotlib.pyplot as plt\n",
    ">>> plt.plot(xf, 1/N * np.abs(yf[0:N/2]))\n",
    "plt.xlim(0.03,.05)\n",
    "plt.ylim(0,600)\n",
    ">>> plt.grid()\n",
    "plt.title(u'Mareas en Isla del tiburón (Enero 2016 ) ')  # Colocamos el título del gráfico\n",
    "plt.xlabel('Frecuencia (1/hr)')  # Colocamos la etiqueta en el eje x\n",
    "plt.ylabel('Amplitud (mm)')  # Colocamos la etiqueta en el eje y\n",
    "\n",
    "plt.text(.03873,175,\"O1\")\n",
    "plt.text(.04155,370,\"P1\")\n",
    ">>> plt.show()"
   ]
  },
  {
   "cell_type": "code",
   "execution_count": 11,
   "metadata": {
    "collapsed": false
   },
   "outputs": [
    {
     "name": "stderr",
     "output_type": "stream",
     "text": [
      "/opt/anaconda/anaconda3/lib/python3.5/site-packages/ipykernel/__main__.py:11: VisibleDeprecationWarning: using a non-integer number instead of an integer will result in an error in the future\n"
     ]
    },
    {
     "data": {
      "image/png": "[encoded data removed]",
      "text/plain": [
       "<matplotlib.figure.Figure at 0x7ffa189dff28>"
      ]
     },
     "metadata": {},
     "output_type": "display_data"
    }
   ],
   "source": [
    ">>> from scipy.fftpack import fft\n",
    ">>> # Number of sample points\n",
    ">>> N = 744\n",
    ">>> # sample spacing\n",
    ">>> T = 1\n",
    ">>> x = df['date']\n",
    ">>> y = df['altura(mm)']\n",
    ">>> yf = fft(y)\n",
    ">>> xf = np.linspace(0.0, 1.0/(2.0*T), N/2)\n",
    ">>> import matplotlib.pyplot as plt\n",
    ">>> plt.plot(xf, 1/N * np.abs(yf[0:N/2]))\n",
    "plt.xlim(0.07,.09)\n",
    "plt.ylim(0,580)\n",
    ">>> plt.grid()\n",
    "plt.title(u'Mareas en Isla del tiburón (Enero 2016 ) ')  # Colocamos el título del gráfico\n",
    "plt.xlabel('Frecuencia (1/hr)')  # Colocamos la etiqueta en el eje x\n",
    "plt.ylabel('Amplitud (mm)')  # Colocamos la etiqueta en el eje y\n",
    "\n",
    "plt.text(.080576,510,\"M2\")\n",
    "plt.text(.0833,230,\"S2\")\n",
    "plt.text(.0765,60,\"N2\")\n",
    "\n",
    ">>> plt.show()\n"
   ]
  },
  {
   "cell_type": "code",
   "execution_count": 14,
   "metadata": {
    "collapsed": false
   },
   "outputs": [
    {
     "data": {
      "image/png": "[encoded data removed]",
      "text/plain": [
       "<matplotlib.figure.Figure at 0x7ffa188f8748>"
      ]
     },
     "metadata": {},
     "output_type": "display_data"
    }
   ],
   "source": [
    "from scipy.fftpack import fft, fftfreq, fftshift\n",
    "# number of signal points\n",
    "N = 744\n",
    "# sample spacing\n",
    "T = 1\n",
    "x = df['date']\n",
    "y = df['altura(mm)']\n",
    "yf = fft(y)\n",
    "xf = fftfreq(N, T)\n",
    "xf = fftshift(xf)\n",
    "yplot = fftshift(yf)\n",
    "import matplotlib.pyplot as plt\n",
    "plt.plot(xf, 1/N * np.abs(yplot))\n",
    "plt.xlim(.0,.01)\n",
    "plt.ylim(0,15)\n",
    "\n",
    "plt.show()"
   ]
  },
  {
   "cell_type": "code",
   "execution_count": null,
   "metadata": {
    "collapsed": false
   },
   "outputs": [],
   "source": [
    "A=yf/N"
   ]
  },
  {
   "cell_type": "code",
   "execution_count": null,
   "metadata": {
    "collapsed": false
   },
   "outputs": [],
   "source": [
    "B=np.absolute(A)\n",
    "B\n",
    "print(np.where(B[:,]>6))\n",
    "B[B[:,]>6]"
   ]
  },
  {
   "cell_type": "code",
   "execution_count": 15,
   "metadata": {
    "collapsed": false
   },
   "outputs": [
    {
     "name": "stdout",
     "output_type": "stream",
     "text": [
      "0\n",
      "Amplitud= 966.584677419\n",
      "frecuencia= 0.0\n",
      "periodo= inf\n",
      "\n",
      "2\n",
      "Amplitud= 6.35768010379\n",
      "frecuencia= 0.00268817204301\n",
      "periodo= 372.0\n",
      "\n",
      "28\n",
      "Amplitud= 33.9826035066\n",
      "frecuencia= 0.0376344086022\n",
      "periodo= 26.5714285714\n",
      "\n",
      "29-o1\n",
      "Amplitud= 76.8711583064\n",
      "frecuencia= 0.0389784946237\n",
      "periodo= 25.6551724138\n",
      "\n",
      "30-M1\n",
      "Amplitud= 13.6961505638\n",
      "frecuencia= 0.0403225806452\n",
      "periodo= 24.8\n",
      "\n",
      "31-s1\n",
      "Amplitud= 170.417791592\n",
      "frecuencia= 0.0416666666667\n",
      "periodo= 24.0\n",
      "\n",
      "32\n",
      "Amplitud= 20.5735933152\n",
      "frecuencia= 0.0430107526882\n",
      "periodo= 23.25\n",
      "\n",
      "34\n",
      "Amplitud= 6.01419075631\n",
      "frecuencia= 0.0456989247312\n",
      "periodo= 21.8823529412\n",
      "\n",
      "57-N2\n",
      "Amplitud= 9.15123669533\n",
      "frecuencia= 0.0766129032258\n",
      "periodo= 13.0526315789\n",
      "\n",
      "59-\n",
      "u 2\n",
      "Amplitud= 85.7750232196\n",
      "frecuencia= 0.0793010752688\n",
      "periodo= 12.6101694915\n",
      "\n",
      "60-M2\n",
      "Amplitud= 233.28303954\n",
      "frecuencia= 0.0806451612903\n",
      "periodo= 12.4\n",
      "\n",
      "61-L2\n",
      "Amplitud= 23.4526493975\n",
      "frecuencia= 0.0819892473118\n",
      "periodo= 12.1967213115\n",
      "\n",
      "62-S2\n",
      "Amplitud= 95.5743925587\n",
      "frecuencia= 0.0833333333333\n",
      "periodo= 12.0\n",
      "\n"
     ]
    }
   ],
   "source": [
    "print( '0')\n",
    "print('Amplitud=',np.absolute(yf[0,]/N))\n",
    "print('frecuencia=', xf[int(N/2 +0),])\n",
    "print('periodo=', 1/xf[int(N/2 +0),])\n",
    "print()\n",
    "print( '2')\n",
    "print('Amplitud=',np.absolute(yf[2,]/N))\n",
    "print('frecuencia=', xf[int(N/2 +2),])\n",
    "print('periodo=', 1/xf[int(N/2 +2),])\n",
    "print()\n",
    "print( '28')\n",
    "print('Amplitud=',np.absolute(yf[28,]/N))\n",
    "print('frecuencia=', xf[int(N/2 +28),])\n",
    "print('periodo=', 1/xf[int(N/2 +28),])\n",
    "print()\n",
    "print( '29-o1')\n",
    "print('Amplitud=',np.absolute(yf[29,]/N))\n",
    "print('frecuencia=', xf[int(N/2 +29),])\n",
    "print('periodo=', 1/xf[int(N/2 +29),])\n",
    "print()\n",
    "print( '30-M1')\n",
    "print('Amplitud=',np.absolute(yf[30,]/N))\n",
    "print('frecuencia=', xf[int(N/2 +30),])\n",
    "print('periodo=', 1/xf[int(N/2 +30),])\n",
    "print()\n",
    "print( '31-s1')\n",
    "print('Amplitud=',np.absolute(yf[31,]/N))\n",
    "print('frecuencia=', xf[int(N/2 +31),])\n",
    "print('periodo=', 1/xf[int(N/2 +31),])\n",
    "print()\n",
    "print( '32')\n",
    "print('Amplitud=',np.absolute(yf[32,]/N))\n",
    "print('frecuencia=', xf[int(N/2 +32),])\n",
    "print('periodo=', 1/xf[int(N/2 +32),])\n",
    "print()\n",
    "print( '34')\n",
    "print('Amplitud=',np.absolute(yf[34,]/N))\n",
    "print('frecuencia=', xf[int(N/2 +34),])\n",
    "print('periodo=', 1/xf[int(N/2 +34),])\n",
    "print()\n",
    "print( '57-N2')\n",
    "print('Amplitud=',np.absolute(yf[57,]/N))\n",
    "print('frecuencia=', xf[int(N/2 +57),])\n",
    "print('periodo=', 1/xf[int(N/2 +57),])\n",
    "print()\n",
    "print( '59-\\nu 2')\n",
    "print('Amplitud=',np.absolute(yf[59,]/N))\n",
    "print('frecuencia=', xf[int(N/2 +59),])\n",
    "print('periodo=', 1/xf[int(N/2 +59),])\n",
    "print()\n",
    "print( '60-M2')\n",
    "print('Amplitud=',np.absolute(yf[60,]/N))\n",
    "print('frecuencia=', xf[int(N/2 +60),])\n",
    "print('periodo=', 1/xf[int(N/2 +60),])\n",
    "print()\n",
    "print( '61-L2')\n",
    "print('Amplitud=',np.absolute(yf[61,]/N))\n",
    "print('frecuencia=', xf[int(N/2 +61),])\n",
    "print('periodo=', 1/xf[int(N/2 +61),])\n",
    "print()\n",
    "print( '62-S2')\n",
    "print('Amplitud=',np.absolute(yf[62,]/N))\n",
    "print('frecuencia=', xf[int(N/2 +62),])\n",
    "print('periodo=', 1/xf[int(N/2 +62),])\n",
    "print()\n"
   ]
  },
  {
   "cell_type": "code",
   "execution_count": null,
   "metadata": {
    "collapsed": true
   },
   "outputs": [],
   "source": []
  },
  {
   "cell_type": "code",
   "execution_count": null,
   "metadata": {
    "collapsed": true
   },
   "outputs": [],
   "source": [
    "\n"
   ]
  }
 ],
 "metadata": {
  "anaconda-cloud": {},
  "kernelspec": {
   "display_name": "Python [default]",
   "language": "python",
   "name": "python3"
  },
  "language_info": {
   "codemirror_mode": {
    "name": "ipython",
    "version": 3
   },
   "file_extension": ".py",
   "mimetype": "text/x-python",
   "name": "python",
   "nbconvert_exporter": "python",
   "pygments_lexer": "ipython3",
   "version": "3.5.2"
  }
 },
 "nbformat": 4,
 "nbformat_minor": 1
}
