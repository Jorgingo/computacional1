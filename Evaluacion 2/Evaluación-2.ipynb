{
 "cells": [
  {
   "cell_type": "code",
   "execution_count": 82,
   "metadata": {
    "collapsed": true
   },
   "outputs": [],
   "source": [
    "import pandas as pd\n",
    "import numpy as np\n",
    "import matplotlib as plt\n",
    "import statsmodels.api as sm\n",
    "import scipy.stats as stats\n",
    "from pylab import *\n",
    "from scipy.io import loadmat\n"
   ]
  },
  {
   "cell_type": "code",
   "execution_count": 90,
   "metadata": {
    "collapsed": false
   },
   "outputs": [],
   "source": [
    "#cargando archivo y nombrando columnas\n",
    "df=pd.read_csv(\"manchas.csv\",names=[\"1\",\"2\",\"año-mes\",\"manchas\",\"5\",\"6\",\"7\"])\n"
   ]
  },
  {
   "cell_type": "code",
   "execution_count": 91,
   "metadata": {
    "collapsed": false
   },
   "outputs": [
    {
     "data": {
      "text/html": [
       "<div>\n",
       "<table border=\"1\" class=\"dataframe\">\n",
       "  <thead>\n",
       "    <tr style=\"text-align: right;\">\n",
       "      <th></th>\n",
       "      <th>1</th>\n",
       "      <th>2</th>\n",
       "      <th>año-mes</th>\n",
       "      <th>manchas</th>\n",
       "      <th>5</th>\n",
       "      <th>6</th>\n",
       "      <th>7</th>\n",
       "    </tr>\n",
       "  </thead>\n",
       "  <tbody>\n",
       "    <tr>\n",
       "      <th>0</th>\n",
       "      <td>1749</td>\n",
       "      <td>1</td>\n",
       "      <td>1749.042</td>\n",
       "      <td>96.7</td>\n",
       "      <td>-1.0</td>\n",
       "      <td>-1</td>\n",
       "      <td>NaN</td>\n",
       "    </tr>\n",
       "    <tr>\n",
       "      <th>1</th>\n",
       "      <td>1749</td>\n",
       "      <td>2</td>\n",
       "      <td>1749.123</td>\n",
       "      <td>104.3</td>\n",
       "      <td>-1.0</td>\n",
       "      <td>-1</td>\n",
       "      <td>NaN</td>\n",
       "    </tr>\n",
       "    <tr>\n",
       "      <th>2</th>\n",
       "      <td>1749</td>\n",
       "      <td>3</td>\n",
       "      <td>1749.204</td>\n",
       "      <td>116.7</td>\n",
       "      <td>-1.0</td>\n",
       "      <td>-1</td>\n",
       "      <td>NaN</td>\n",
       "    </tr>\n",
       "    <tr>\n",
       "      <th>3</th>\n",
       "      <td>1749</td>\n",
       "      <td>4</td>\n",
       "      <td>1749.288</td>\n",
       "      <td>92.8</td>\n",
       "      <td>-1.0</td>\n",
       "      <td>-1</td>\n",
       "      <td>NaN</td>\n",
       "    </tr>\n",
       "    <tr>\n",
       "      <th>4</th>\n",
       "      <td>1749</td>\n",
       "      <td>5</td>\n",
       "      <td>1749.371</td>\n",
       "      <td>141.7</td>\n",
       "      <td>-1.0</td>\n",
       "      <td>-1</td>\n",
       "      <td>NaN</td>\n",
       "    </tr>\n",
       "  </tbody>\n",
       "</table>\n",
       "</div>"
      ],
      "text/plain": [
       "      1  2   año-mes  manchas    5  6    7\n",
       "0  1749  1  1749.042     96.7 -1.0 -1  NaN\n",
       "1  1749  2  1749.123    104.3 -1.0 -1  NaN\n",
       "2  1749  3  1749.204    116.7 -1.0 -1  NaN\n",
       "3  1749  4  1749.288     92.8 -1.0 -1  NaN\n",
       "4  1749  5  1749.371    141.7 -1.0 -1  NaN"
      ]
     },
     "execution_count": 91,
     "metadata": {},
     "output_type": "execute_result"
    }
   ],
   "source": [
    "df.head()"
   ]
  },
  {
   "cell_type": "code",
   "execution_count": 92,
   "metadata": {
    "collapsed": false
   },
   "outputs": [],
   "source": [
    "#borrando columnas que no son relevantes\n",
    "del df['1']\n",
    "del df['2']\n",
    "del df['5']\n",
    "del df['6']\n",
    "del df['7']"
   ]
  },
  {
   "cell_type": "code",
   "execution_count": 93,
   "metadata": {
    "collapsed": false
   },
   "outputs": [
    {
     "data": {
      "text/html": [
       "<div>\n",
       "<table border=\"1\" class=\"dataframe\">\n",
       "  <thead>\n",
       "    <tr style=\"text-align: right;\">\n",
       "      <th></th>\n",
       "      <th>año-mes</th>\n",
       "      <th>manchas</th>\n",
       "    </tr>\n",
       "  </thead>\n",
       "  <tbody>\n",
       "    <tr>\n",
       "      <th>0</th>\n",
       "      <td>1749.042</td>\n",
       "      <td>96.7</td>\n",
       "    </tr>\n",
       "    <tr>\n",
       "      <th>1</th>\n",
       "      <td>1749.123</td>\n",
       "      <td>104.3</td>\n",
       "    </tr>\n",
       "    <tr>\n",
       "      <th>2</th>\n",
       "      <td>1749.204</td>\n",
       "      <td>116.7</td>\n",
       "    </tr>\n",
       "    <tr>\n",
       "      <th>3</th>\n",
       "      <td>1749.288</td>\n",
       "      <td>92.8</td>\n",
       "    </tr>\n",
       "    <tr>\n",
       "      <th>4</th>\n",
       "      <td>1749.371</td>\n",
       "      <td>141.7</td>\n",
       "    </tr>\n",
       "  </tbody>\n",
       "</table>\n",
       "</div>"
      ],
      "text/plain": [
       "    año-mes  manchas\n",
       "0  1749.042     96.7\n",
       "1  1749.123    104.3\n",
       "2  1749.204    116.7\n",
       "3  1749.288     92.8\n",
       "4  1749.371    141.7"
      ]
     },
     "execution_count": 93,
     "metadata": {},
     "output_type": "execute_result"
    }
   ],
   "source": [
    "df.head()"
   ]
  },
  {
   "cell_type": "code",
   "execution_count": 95,
   "metadata": {
    "collapsed": false
   },
   "outputs": [
    {
     "data": {
      "text/plain": [
       "año-mes    0\n",
       "manchas    0\n",
       "dtype: int64"
      ]
     },
     "execution_count": 95,
     "metadata": {},
     "output_type": "execute_result"
    }
   ],
   "source": [
    "df.apply(lambda x: sum(x.isnull()),axis=0)"
   ]
  },
  {
   "cell_type": "code",
   "execution_count": 96,
   "metadata": {
    "collapsed": true
   },
   "outputs": [],
   "source": [
    "df_clean = df.dropna()"
   ]
  },
  {
   "cell_type": "code",
   "execution_count": 97,
   "metadata": {
    "collapsed": false
   },
   "outputs": [
    {
     "data": {
      "text/html": [
       "<div>\n",
       "<table border=\"1\" class=\"dataframe\">\n",
       "  <thead>\n",
       "    <tr style=\"text-align: right;\">\n",
       "      <th></th>\n",
       "      <th>año-mes</th>\n",
       "      <th>manchas</th>\n",
       "    </tr>\n",
       "  </thead>\n",
       "  <tbody>\n",
       "    <tr>\n",
       "      <th>3208</th>\n",
       "      <td>2016.373</td>\n",
       "      <td>52.1</td>\n",
       "    </tr>\n",
       "    <tr>\n",
       "      <th>3209</th>\n",
       "      <td>2016.456</td>\n",
       "      <td>20.9</td>\n",
       "    </tr>\n",
       "    <tr>\n",
       "      <th>3210</th>\n",
       "      <td>2016.540</td>\n",
       "      <td>32.5</td>\n",
       "    </tr>\n",
       "    <tr>\n",
       "      <th>3211</th>\n",
       "      <td>2016.624</td>\n",
       "      <td>50.7</td>\n",
       "    </tr>\n",
       "    <tr>\n",
       "      <th>3212</th>\n",
       "      <td>2016.708</td>\n",
       "      <td>44.7</td>\n",
       "    </tr>\n",
       "  </tbody>\n",
       "</table>\n",
       "</div>"
      ],
      "text/plain": [
       "       año-mes  manchas\n",
       "3208  2016.373     52.1\n",
       "3209  2016.456     20.9\n",
       "3210  2016.540     32.5\n",
       "3211  2016.624     50.7\n",
       "3212  2016.708     44.7"
      ]
     },
     "execution_count": 97,
     "metadata": {},
     "output_type": "execute_result"
    }
   ],
   "source": [
    "df.tail()"
   ]
  },
  {
   "cell_type": "code",
   "execution_count": 100,
   "metadata": {
    "collapsed": false
   },
   "outputs": [
    {
     "data": {
      "image/png": "[encoded data removed]",
      "text/plain": [
       "<matplotlib.figure.Figure at 0x7f149e778780>"
      ]
     },
     "metadata": {},
     "output_type": "display_data"
    }
   ],
   "source": [
    "x=df[\"año-mes\"]\n",
    "y=df[\"manchas\"]\n",
    "plt.title(\"promedio de manchas solares\")\n",
    "plt.ylabel('manchas')\n",
    "plt.xlabel('Fecha')\n",
    "plt.grid(True)\n",
    "\n",
    "locs, labels = plt.xticks()\n",
    "plt.setp(labels, rotation=45)\n",
    "\n",
    "plt.plot(x,y)\n",
    "plt.show()"
   ]
  },
  {
   "cell_type": "code",
   "execution_count": 170,
   "metadata": {
    "collapsed": false
   },
   "outputs": [
    {
     "data": {
      "image/png": "[encoded data removed]",
      "text/plain": [
       "<matplotlib.figure.Figure at 0x7f149e781940>"
      ]
     },
     "metadata": {},
     "output_type": "display_data"
    }
   ],
   "source": [
    "from scipy.fftpack import fft\n",
    "\n",
    "N = 3213\n",
    "T = 1.0\n",
    "x = df['año-mes']\n",
    "y = df['manchas']\n",
    "\n",
    "yf = fft(y)\n",
    "xf = fftfreq(N, T)\n",
    "xf = fftshift(xf)\n",
    "yplot = fftshift(yf)\n",
    "import matplotlib.pyplot as plt\n",
    "plt.plot(xf, 1/N * np.abs(yplot))\n",
    "plt.grid()\n",
    "\n",
    "plt.xlim(-0.1,.5)\n",
    "plt.ylim(0,90)\n",
    "\n",
    "  \n",
    "plt.title(\"Transformada de Fourier\")\n",
    "plt.ylabel('promedio de manchas')\n",
    "plt.xlabel('frecuencia (meses)')\n",
    "\n",
    "plt.show()"
   ]
  },
  {
   "cell_type": "code",
   "execution_count": 171,
   "metadata": {
    "collapsed": true
   },
   "outputs": [],
   "source": [
    "A=yf/N"
   ]
  },
  {
   "cell_type": "code",
   "execution_count": 172,
   "metadata": {
    "collapsed": false
   },
   "outputs": [
    {
     "name": "stdout",
     "output_type": "stream",
     "text": [
      "(array([   0,    1,    2,    3,    4,    5,   18,   19,   22,   23,   24,\n",
      "         25,   26,   27,   28,   29,   30,   32,   33,   49, 3164, 3180,\n",
      "       3181, 3183, 3184, 3185, 3186, 3187, 3188, 3189, 3190, 3191, 3194,\n",
      "       3195, 3208, 3209, 3210, 3211, 3212]),)\n"
     ]
    },
    {
     "data": {
      "text/plain": [
       "array([ 82.92356054,   6.1202308 ,   5.81322464,  11.39959181,\n",
       "         7.64140607,   6.86795256,   5.12470451,   6.53244749,\n",
       "         6.2536874 ,  11.33907605,  19.9936166 ,  17.709916  ,\n",
       "         6.7814543 ,  15.45401894,   5.3662003 ,   7.06077096,\n",
       "         6.45420329,   5.27672092,   7.31412295,   5.08635154,\n",
       "         5.08635154,   7.31412295,   5.27672092,   6.45420329,\n",
       "         7.06077096,   5.3662003 ,  15.45401894,   6.7814543 ,\n",
       "        17.709916  ,  19.9936166 ,  11.33907605,   6.2536874 ,\n",
       "         6.53244749,   5.12470451,   6.86795256,   7.64140607,\n",
       "        11.39959181,   5.81322464,   6.1202308 ])"
      ]
     },
     "execution_count": 172,
     "metadata": {},
     "output_type": "execute_result"
    }
   ],
   "source": [
    "B=np.absolute(A)\n",
    "B\n",
    "print(np.where(B[:,]>5))\n",
    "B[B[:,]>5]"
   ]
  },
  {
   "cell_type": "code",
   "execution_count": 173,
   "metadata": {
    "collapsed": false
   },
   "outputs": [
    {
     "name": "stdout",
     "output_type": "stream",
     "text": [
      "0\n",
      "Amplitud= 82.9235605353\n",
      "frecuencia= 0.0\n",
      "periodo= inf\n",
      "periodo(años)= inf\n",
      "\n",
      "1\n",
      "Amplitud= 6.12023079759\n",
      "frecuencia= 0.000311235605353\n",
      "periodo= 3213.0\n",
      "periodo(años)= 267.75\n",
      "\n",
      "2\n",
      "Amplitud= 5.8132246436\n",
      "frecuencia= 0.000622471210707\n",
      "periodo= 1606.5\n",
      "periodo(años)= 133.875\n",
      "\n",
      "3\n",
      "Amplitud= 11.3995918066\n",
      "frecuencia= 0.00093370681606\n",
      "periodo= 1071.0\n",
      "periodo(años)= 89.25\n",
      "\n",
      "4\n",
      "Amplitud= 7.64140606831\n",
      "frecuencia= 0.00124494242141\n",
      "periodo= 803.25\n",
      "periodo(años)= 66.9375\n",
      "\n",
      "5\n",
      "Amplitud= 6.86795255526\n",
      "frecuencia= 0.00155617802677\n",
      "periodo= 642.6\n",
      "periodo(años)= 53.55\n",
      "\n",
      "6\n",
      "Amplitud= 5.12470451341\n",
      "frecuencia= 0.00560224089636\n",
      "periodo= 178.5\n",
      "periodo(años)= 14.875\n",
      "\n",
      "7\n",
      "Amplitud= 6.53244749257\n",
      "frecuencia= 0.00591347650171\n",
      "periodo= 169.105263158\n",
      "periodo(años)= 14.0921052632\n",
      "\n",
      "8\n",
      "Amplitud= 6.25368739689\n",
      "frecuencia= 0.00684718331777\n",
      "periodo= 146.045454545\n",
      "periodo(años)= 12.1704545455\n",
      "\n",
      "9\n",
      "Amplitud= 11.3390760528\n",
      "frecuencia= 0.00715841892312\n",
      "periodo= 139.695652174\n",
      "periodo(años)= 11.6413043478\n",
      "\n",
      "10\n",
      "Amplitud= 19.9936166043\n",
      "frecuencia= 0.00746965452848\n",
      "periodo= 133.875\n",
      "periodo(años)= 11.15625\n",
      "\n",
      "11\n",
      "Amplitud= 17.7099160016\n",
      "frecuencia= 0.00778089013383\n",
      "periodo= 128.52\n",
      "periodo(años)= 10.71\n",
      "\n",
      "12\n",
      "Amplitud= 6.78145430273\n",
      "frecuencia= 0.00809212573918\n",
      "periodo= 123.576923077\n",
      "periodo(años)= 10.2980769231\n",
      "\n",
      "13\n",
      "Amplitud= 15.4540189405\n",
      "frecuencia= 0.00840336134454\n",
      "periodo= 119.0\n",
      "periodo(años)= 9.91666666667\n",
      "\n",
      "14\n",
      "Amplitud= 5.36620029563\n",
      "frecuencia= 0.00871459694989\n",
      "periodo= 114.75\n",
      "periodo(años)= 9.5625\n",
      "\n",
      "15\n",
      "Amplitud= 7.06077096319\n",
      "frecuencia= 0.00902583255524\n",
      "periodo= 110.793103448\n",
      "periodo(años)= 9.23275862069\n",
      "\n",
      "16\n",
      "Amplitud= 6.45420328858\n",
      "frecuencia= 0.0093370681606\n",
      "periodo= 107.1\n",
      "periodo(años)= 8.925\n",
      "\n",
      "17\n",
      "Amplitud= 5.27672091961\n",
      "frecuencia= 0.0099595393713\n",
      "periodo= 100.40625\n",
      "periodo(años)= 8.3671875\n",
      "\n",
      "18\n",
      "Amplitud= 7.31412294874\n",
      "frecuencia= 0.0102707749767\n",
      "periodo= 97.3636363636\n",
      "periodo(años)= 8.11363636364\n",
      "\n",
      "19\n",
      "Amplitud= 5.08635154383\n",
      "frecuencia= 0.0152505446623\n",
      "periodo= 65.5714285714\n",
      "periodo(años)= 5.46428571429\n",
      "\n"
     ]
    }
   ],
   "source": [
    "print( '0')\n",
    "print('Amplitud=',np.absolute(yf[0,]/N))\n",
    "print('frecuencia=', xf[int(N/2 +0),])\n",
    "print('periodo=', 1/xf[int(N/2 +0),])\n",
    "print('periodo(años)=', 1/(12*xf[int(N/2 +0),]))\n",
    "print()\n",
    "print( '1')\n",
    "print('Amplitud=',np.absolute(yf[1,]/N))\n",
    "print('frecuencia=', xf[int(N/2 +1),])\n",
    "print('periodo=', 1/xf[int(N/2 +1),])\n",
    "print('periodo(años)=', 1/(12*xf[int(N/2 +1),]))\n",
    "print()\n",
    "print( '2')\n",
    "print('Amplitud=',np.absolute(yf[2,]/N))\n",
    "print('frecuencia=', xf[int(N/2 +2),])\n",
    "print('periodo=', 1/xf[int(N/2 +2),])\n",
    "print('periodo(años)=', 1/(12*xf[int(N/2 +2),]))\n",
    "print()\n",
    "print( '3')\n",
    "print('Amplitud=',np.absolute(yf[3,]/N))\n",
    "print('frecuencia=', xf[int(N/2 +3),])\n",
    "print('periodo=', 1/xf[int(N/2 +3),])\n",
    "print('periodo(años)=', 1/(12*xf[int(N/2 +3),]))\n",
    "print()\n",
    "print( '4')\n",
    "print('Amplitud=',np.absolute(yf[4,]/N))\n",
    "print('frecuencia=', xf[int(N/2 +4),])\n",
    "print('periodo=', 1/xf[int(N/2 +4),])\n",
    "print('periodo(años)=', 1/(12*xf[int(N/2 +4),]))\n",
    "print()\n",
    "print( '5')\n",
    "print('Amplitud=',np.absolute(yf[5,]/N))\n",
    "print('frecuencia=', xf[int(N/2 +5),])\n",
    "print('periodo=', 1/xf[int(N/2 +5),])\n",
    "print('periodo(años)=', 1/(12*xf[int(N/2 +5),]))\n",
    "print()\n",
    "print( '6')\n",
    "print('Amplitud=',np.absolute(yf[18,]/N))\n",
    "print('frecuencia=', xf[int(N/2 +18),])\n",
    "print('periodo=', 1/xf[int(N/2 +18),])\n",
    "print('periodo(años)=', 1/(12*xf[int(N/2 +18),]))\n",
    "print()\n",
    "print( '7')\n",
    "print('Amplitud=',np.absolute(yf[19,]/N))\n",
    "print('frecuencia=', xf[int(N/2 +19),])\n",
    "print('periodo=', 1/xf[int(N/2 +19),])\n",
    "print('periodo(años)=', 1/(12*xf[int(N/2 +19),]))\n",
    "print()\n",
    "print( '8')\n",
    "print('Amplitud=',np.absolute(yf[22,]/N))\n",
    "print('frecuencia=', xf[int(N/2 +22),])\n",
    "print('periodo=', 1/xf[int(N/2 +22),])\n",
    "print('periodo(años)=', 1/(12*xf[int(N/2 +22),]))\n",
    "print()\n",
    "print( '9')\n",
    "print('Amplitud=',np.absolute(yf[23,]/N))\n",
    "print('frecuencia=', xf[int(N/2 +23),])\n",
    "print('periodo=', 1/xf[int(N/2 +23),])\n",
    "print('periodo(años)=', 1/(12*xf[int(N/2 +23),]))\n",
    "print()\n",
    "print( '10')\n",
    "print('Amplitud=',np.absolute(yf[24,]/N))\n",
    "print('frecuencia=', xf[int(N/2 +24),])\n",
    "print('periodo=', 1/xf[int(N/2 +24),])\n",
    "print('periodo(años)=', 1/(12*xf[int(N/2 +24),]))\n",
    "print()\n",
    "print( '11')\n",
    "print('Amplitud=',np.absolute(yf[25,]/N))\n",
    "print('frecuencia=', xf[int(N/2 +25),])\n",
    "print('periodo=', 1/xf[int(N/2 +25),])\n",
    "print('periodo(años)=', 1/(12*xf[int(N/2 +25),]))\n",
    "print()\n",
    "print( '12')\n",
    "print('Amplitud=',np.absolute(yf[26,]/N))\n",
    "print('frecuencia=', xf[int(N/2 +26),])\n",
    "print('periodo=', 1/xf[int(N/2 +26),])\n",
    "print('periodo(años)=', 1/(12*xf[int(N/2 +26),]))\n",
    "print()\n",
    "print( '13')\n",
    "print('Amplitud=',np.absolute(yf[27,]/N))\n",
    "print('frecuencia=', xf[int(N/2 +27),])\n",
    "print('periodo=', 1/xf[int(N/2 +27),])\n",
    "print('periodo(años)=', 1/(12*xf[int(N/2 +27),]))\n",
    "print()\n",
    "print( '14')\n",
    "print('Amplitud=',np.absolute(yf[28,]/N))\n",
    "print('frecuencia=', xf[int(N/2 +28),])\n",
    "print('periodo=', 1/xf[int(N/2 +28),])\n",
    "print('periodo(años)=', 1/(12*xf[int(N/2 +28),]))\n",
    "print()\n",
    "print( '15')\n",
    "print('Amplitud=',np.absolute(yf[29,]/N))\n",
    "print('frecuencia=', xf[int(N/2 +29),])\n",
    "print('periodo=', 1/xf[int(N/2 +29),])\n",
    "print('periodo(años)=', 1/(12*xf[int(N/2 +29),]))\n",
    "print()\n",
    "print( '16')\n",
    "print('Amplitud=',np.absolute(yf[30,]/N))\n",
    "print('frecuencia=', xf[int(N/2 +30),])\n",
    "print('periodo=', 1/xf[int(N/2 +30),])\n",
    "print('periodo(años)=', 1/(12*xf[int(N/2 +30),]))\n",
    "print()\n",
    "print( '17')\n",
    "print('Amplitud=',np.absolute(yf[32,]/N))\n",
    "print('frecuencia=', xf[int(N/2 +32),])\n",
    "print('periodo=', 1/xf[int(N/2 +32),])\n",
    "print('periodo(años)=', 1/(12*xf[int(N/2 +32),]))\n",
    "print()\n",
    "print( '18')\n",
    "print('Amplitud=',np.absolute(yf[33,]/N))\n",
    "print('frecuencia=', xf[int(N/2 +33),])\n",
    "print('periodo=', 1/xf[int(N/2 +33),])\n",
    "print('periodo(años)=', 1/(12*xf[int(N/2 +33),]))\n",
    "print()\n",
    "print( '19')\n",
    "print('Amplitud=',np.absolute(yf[49,]/N))\n",
    "print('frecuencia=', xf[int(N/2 +49),])\n",
    "print('periodo=', 1/xf[int(N/2 +49),])\n",
    "print('periodo(años)=', 1/(12*xf[int(N/2 +49),]))\n",
    "print()"
   ]
  },
  {
   "cell_type": "code",
   "execution_count": 175,
   "metadata": {
    "collapsed": false
   },
   "outputs": [
    {
     "data": {
      "image/png": "[encoded data removed]",
      "text/plain": [
       "<matplotlib.figure.Figure at 0x7f149e649908>"
      ]
     },
     "metadata": {},
     "output_type": "display_data"
    }
   ],
   "source": [
    "from scipy.fftpack import fft\n",
    "\n",
    "N = 3213\n",
    "T = 1.0\n",
    "x = df['año-mes']\n",
    "y = df['manchas']\n",
    "\n",
    "yf = fft(y)\n",
    "xf = fftfreq(N, T)\n",
    "xf = fftshift(xf)\n",
    "yplot = fftshift(yf)\n",
    "import matplotlib.pyplot as plt\n",
    "plt.plot(xf, 1/N * np.abs(yplot))\n",
    "plt.grid()\n",
    "\n",
    "plt.xlim(0,.02)\n",
    "plt.ylim(0,21)\n",
    "\n",
    "  \n",
    "plt.title(\"Frecuencias principales\")\n",
    "plt.ylabel('promedio de manchas')\n",
    "plt.xlabel('frecuencia (meses) ')\n",
    "\n",
    "plt.show()"
   ]
  },
  {
   "cell_type": "code",
   "execution_count": 169,
   "metadata": {
    "collapsed": false
   },
   "outputs": [
    {
     "name": "stdout",
     "output_type": "stream",
     "text": [
      "periodo(años) promedio = 11.1437\n"
     ]
    }
   ],
   "source": [
    "print('periodo(años) promedio = 10.5365')"
   ]
  },
  {
   "cell_type": "code",
   "execution_count": null,
   "metadata": {
    "collapsed": true
   },
   "outputs": [],
   "source": []
  }
 ],
 "metadata": {
  "anaconda-cloud": {},
  "kernelspec": {
   "display_name": "Python [default]",
   "language": "python",
   "name": "python3"
  },
  "language_info": {
   "codemirror_mode": {
    "name": "ipython",
    "version": 3
   },
   "file_extension": ".py",
   "mimetype": "text/x-python",
   "name": "python",
   "nbconvert_exporter": "python",
   "pygments_lexer": "ipython3",
   "version": "3.5.2"
  }
 },
 "nbformat": 4,
 "nbformat_minor": 1
}
